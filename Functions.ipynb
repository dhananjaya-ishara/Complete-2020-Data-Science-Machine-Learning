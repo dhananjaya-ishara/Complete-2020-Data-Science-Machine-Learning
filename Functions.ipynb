{
  "nbformat": 4,
  "nbformat_minor": 0,
  "metadata": {
    "colab": {
      "provenance": []
    },
    "kernelspec": {
      "name": "python3",
      "display_name": "Python 3"
    },
    "language_info": {
      "name": "python"
    }
  },
  "cells": [
    {
      "cell_type": "markdown",
      "source": [
        "Function"
      ],
      "metadata": {
        "id": "FNuq2Eess6qz"
      }
    },
    {
      "cell_type": "markdown",
      "source": [
        "defining function -------->calling function\n",
        "\n",
        "ex:\n",
        "\n",
        " def getmilk():---------------->getmilk()\n",
        "\n",
        "\n",
        "\n",
        " def getmilk():           HEAD\n",
        "  #open door             -|\n",
        "  #close door             |\n",
        "  #take money             |-BODY\n",
        "  #walk forwards          |\n",
        "  #other.........        -|\n",
        "\n",
        "  getmilk()\n",
        "\n",
        "\n"
      ],
      "metadata": {
        "id": "RC01Apjr58TX"
      }
    },
    {
      "cell_type": "code",
      "execution_count": 24,
      "metadata": {
        "id": "hVtDSAcNXpsM"
      },
      "outputs": [],
      "source": [
        " def fill_the_box(amount):\n",
        "  print(\"open door\")\n",
        "  print(\"close door\")\n",
        "  print('take money and buy '+ amount +' of product')#combine or marge(concatenate)\n",
        "  print(\"walk forwards\")\n",
        "  print(\"other\")\n",
        "\n",
        "\n"
      ]
    },
    {
      "cell_type": "code",
      "source": [
        "fill_the_box(\"100\")"
      ],
      "metadata": {
        "colab": {
          "base_uri": "https://localhost:8080/"
        },
        "id": "IV9Bhhn48HaM",
        "outputId": "01790300-ca54-4ad0-ad80-31fabd4b4012"
      },
      "execution_count": 25,
      "outputs": [
        {
          "output_type": "stream",
          "name": "stdout",
          "text": [
            "open door\n",
            "close door\n",
            "take money and buy 100 of product\n",
            "walk forwards\n",
            "other\n"
          ]
        }
      ]
    },
    {
      "cell_type": "code",
      "source": [
        "fill_the_box(\"ten\")"
      ],
      "metadata": {
        "colab": {
          "base_uri": "https://localhost:8080/"
        },
        "id": "u2lrLGcSFyaT",
        "outputId": "538800f3-f2eb-48d3-8209-05a254b693a0"
      },
      "execution_count": 26,
      "outputs": [
        {
          "output_type": "stream",
          "name": "stdout",
          "text": [
            "open door\n",
            "close door\n",
            "take money and buy ten of product\n",
            "walk forwards\n",
            "other\n"
          ]
        }
      ]
    },
    {
      "cell_type": "markdown",
      "source": [
        "defining function"
      ],
      "metadata": {
        "id": "X8R4y7GNGd-T"
      }
    },
    {
      "cell_type": "code",
      "source": [
        "def call(no):#parameter\n",
        "  newno=no/5\n",
        "  print(newno)\n"
      ],
      "metadata": {
        "id": "8EfrgDyWEYHa"
      },
      "execution_count": 30,
      "outputs": []
    },
    {
      "cell_type": "code",
      "source": [
        "call(10)#arguments"
      ],
      "metadata": {
        "colab": {
          "base_uri": "https://localhost:8080/"
        },
        "id": "0mv5wtsPGzAb",
        "outputId": "3fb78995-f7b3-483e-9b2c-a1c4744cd443"
      },
      "execution_count": 31,
      "outputs": [
        {
          "output_type": "stream",
          "name": "stdout",
          "text": [
            "2.0\n"
          ]
        }
      ]
    },
    {
      "cell_type": "code",
      "source": [
        "def call(no1,no2):#parameter\n",
        "  newno=no1+no2\n",
        "  print(newno)"
      ],
      "metadata": {
        "id": "g-d_ciQJHfaX"
      },
      "execution_count": 32,
      "outputs": []
    },
    {
      "cell_type": "code",
      "source": [
        "call(10,20)#arguments"
      ],
      "metadata": {
        "colab": {
          "base_uri": "https://localhost:8080/"
        },
        "id": "ZaamJTpdHoM0",
        "outputId": "5da5042f-d153-43a9-fd88-d66efbb67c59"
      },
      "execution_count": 33,
      "outputs": [
        {
          "output_type": "stream",
          "name": "stdout",
          "text": [
            "30\n"
          ]
        }
      ]
    },
    {
      "cell_type": "code",
      "source": [
        " def fill_the_box(amount,location):\n",
        "  print(\"open door\")\n",
        "  print(\"close door\")\n",
        "  print('take money and buy '+ amount +' of product')#combine or marge(concatenate)\n",
        "  print(\"walk forwards\")\n",
        "  print(\"other in \"+location+ \" city\")"
      ],
      "metadata": {
        "id": "6wfOUeKCHtZD"
      },
      "execution_count": 41,
      "outputs": []
    },
    {
      "cell_type": "code",
      "source": [
        "fill_the_box(\"100\",\"colombo\")"
      ],
      "metadata": {
        "colab": {
          "base_uri": "https://localhost:8080/"
        },
        "id": "UUmhCGQNIDUM",
        "outputId": "4ef6d49c-a068-4ef7-8795-36eca2babc3d"
      },
      "execution_count": 42,
      "outputs": [
        {
          "output_type": "stream",
          "name": "stdout",
          "text": [
            "open door\n",
            "close door\n",
            "take money and buy 100 of product\n",
            "walk forwards\n",
            "other in colombo city\n"
          ]
        }
      ]
    },
    {
      "cell_type": "code",
      "source": [
        "fill_the_box(location=\"colombo\",amount=\"1000\")"
      ],
      "metadata": {
        "colab": {
          "base_uri": "https://localhost:8080/"
        },
        "id": "3dX2Dd2VJBI1",
        "outputId": "38bc06f4-6853-48c1-82ef-dad4f221713a"
      },
      "execution_count": 44,
      "outputs": [
        {
          "output_type": "stream",
          "name": "stdout",
          "text": [
            "open door\n",
            "close door\n",
            "take money and buy 1000 of product\n",
            "walk forwards\n",
            "other in colombo city\n"
          ]
        }
      ]
    },
    {
      "cell_type": "markdown",
      "source": [
        "Results and return values"
      ],
      "metadata": {
        "id": "spT9zPxCJ96C"
      }
    },
    {
      "cell_type": "markdown",
      "source": [
        "create a function called times()\n",
        "the funtion take two inputs\n",
        "inputs need to be multiplied with each other\n",
        "output of function is the the result of the multiplication\n",
        "test your function.creat a variable called test\n",
        "set test equal to output of function for inputs 3.14 and 5.09"
      ],
      "metadata": {
        "id": "qN7aREc6AWXL"
      }
    },
    {
      "cell_type": "code",
      "source": [
        "def times(no1,no2):\n",
        " #multiplied=no1*no2\n",
        " return no1*no2"
      ],
      "metadata": {
        "id": "D986Bi_xKDdi"
      },
      "execution_count": 6,
      "outputs": []
    },
    {
      "cell_type": "code",
      "source": [
        "test=times(no1=3.14,no2=5.09)\n",
        "print(test)"
      ],
      "metadata": {
        "colab": {
          "base_uri": "https://localhost:8080/"
        },
        "id": "YMvIUFz7BwbB",
        "outputId": "dff22ca4-056f-44a5-be15-491831114faf"
      },
      "execution_count": 7,
      "outputs": [
        {
          "output_type": "stream",
          "name": "stdout",
          "text": [
            "15.9826\n"
          ]
        }
      ]
    },
    {
      "cell_type": "code",
      "source": [
        "times(\"ni_\",4)"
      ],
      "metadata": {
        "colab": {
          "base_uri": "https://localhost:8080/",
          "height": 35
        },
        "id": "J-1NvJIACbFa",
        "outputId": "ca5e3198-0909-4447-b55d-595321c2e465"
      },
      "execution_count": 9,
      "outputs": [
        {
          "output_type": "execute_result",
          "data": {
            "text/plain": [
              "'ni_ni_ni_ni_'"
            ],
            "application/vnd.google.colaboratory.intrinsic+json": {
              "type": "string"
            }
          },
          "metadata": {},
          "execution_count": 9
        }
      ]
    },
    {
      "cell_type": "markdown",
      "source": [
        "SUMMARY-------------------------------------------------------------------------\n",
        "*no input.no output\n",
        "def getmilk()\n",
        "#...more instraction\n",
        "\n",
        "\n",
        "*with input.no output\n",
        "def getmilk(mony)\n",
        "liter =money/2\n",
        "#...more instraction\n",
        "\n",
        "*with input and with output\n",
        "def getmilk(mony)\n",
        "liter =money/2\n",
        "return liter\n",
        "\n"
      ],
      "metadata": {
        "id": "5H_9dyXrD5ar"
      }
    },
    {
      "cell_type": "code",
      "source": [
        "import this"
      ],
      "metadata": {
        "colab": {
          "base_uri": "https://localhost:8080/"
        },
        "id": "0Gg7BCx3ExKl",
        "outputId": "0e214bf7-b162-4bdf-aad8-4b2f13e2e31f"
      },
      "execution_count": 10,
      "outputs": [
        {
          "output_type": "stream",
          "name": "stdout",
          "text": [
            "The Zen of Python, by Tim Peters\n",
            "\n",
            "Beautiful is better than ugly.\n",
            "Explicit is better than implicit.\n",
            "Simple is better than complex.\n",
            "Complex is better than complicated.\n",
            "Flat is better than nested.\n",
            "Sparse is better than dense.\n",
            "Readability counts.\n",
            "Special cases aren't special enough to break the rules.\n",
            "Although practicality beats purity.\n",
            "Errors should never pass silently.\n",
            "Unless explicitly silenced.\n",
            "In the face of ambiguity, refuse the temptation to guess.\n",
            "There should be one-- and preferably only one --obvious way to do it.\n",
            "Although that way may not be obvious at first unless you're Dutch.\n",
            "Now is better than never.\n",
            "Although never is often better than *right* now.\n",
            "If the implementation is hard to explain, it's a bad idea.\n",
            "If the implementation is easy to explain, it may be a good idea.\n",
            "Namespaces are one honking great idea -- let's do more of those!\n"
          ]
        }
      ]
    }
  ]
}