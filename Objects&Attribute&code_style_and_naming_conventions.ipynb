{
  "nbformat": 4,
  "nbformat_minor": 0,
  "metadata": {
    "colab": {
      "provenance": []
    },
    "kernelspec": {
      "name": "python3",
      "display_name": "Python 3"
    },
    "language_info": {
      "name": "python"
    }
  },
  "cells": [
    {
      "cell_type": "markdown",
      "source": [
        "✅ What is a Python Object?\n",
        "In Python, everything is an object — numbers, strings, lists, functions, even classes.\n",
        "\n",
        "An object is a container that holds:\n",
        "\n",
        "Data (called attributes or properties)\n",
        "\n",
        "Code (functions called methods)"
      ],
      "metadata": {
        "id": "1JIgZqKhIE5l"
      }
    },
    {
      "cell_type": "markdown",
      "source": [
        "✅ What is an Attribute?\n",
        "An attribute is a value associated with an object. It can be:\n",
        "\n",
        "a variable (data)\n",
        "\n",
        "a method (function inside the object)"
      ],
      "metadata": {
        "id": "nzVUoKUBIIac"
      }
    },
    {
      "cell_type": "markdown",
      "source": [
        "✅ What is a Method in Python?\n",
        "A method is a function that belongs to an object.\n",
        "It’s defined inside a class and can use the object’s data (attributes)."
      ],
      "metadata": {
        "id": "jUAQtEomIwl5"
      }
    },
    {
      "cell_type": "markdown",
      "source": [
        "Sate -------------------->Attribute\n",
        "..........................mileage\n",
        "..........................amount_of_fuel\n",
        "\n",
        "Behaviour----------------->Method"
      ],
      "metadata": {
        "id": "xekvJjKvJQcg"
      }
    },
    {
      "cell_type": "markdown",
      "source": [
        "#object.method_name()\n",
        "#car.drive()\n",
        "#car.talk()\n",
        "#car.race()"
      ],
      "metadata": {
        "id": "QFuOf1fxL1Pi"
      }
    },
    {
      "cell_type": "code",
      "execution_count": 1,
      "metadata": {
        "id": "W8EiEpQdGsBz"
      },
      "outputs": [],
      "source": [
        "import life as my"
      ]
    },
    {
      "cell_type": "code",
      "source": [
        "type(my)"
      ],
      "metadata": {
        "colab": {
          "base_uri": "https://localhost:8080/"
        },
        "id": "TPStZFnwMCSf",
        "outputId": "30e91004-361c-4526-bc0c-857503cc8a7d"
      },
      "execution_count": 2,
      "outputs": [
        {
          "output_type": "execute_result",
          "data": {
            "text/plain": [
              "module"
            ]
          },
          "metadata": {},
          "execution_count": 2
        }
      ]
    },
    {
      "cell_type": "code",
      "source": [
        "my.quote_marvin()"
      ],
      "metadata": {
        "colab": {
          "base_uri": "https://localhost:8080/"
        },
        "id": "ye60r0HCMFw2",
        "outputId": "5badc0ec-60f9-4827-ec37-b3d9d371a939"
      },
      "execution_count": 3,
      "outputs": [
        {
          "output_type": "stream",
          "name": "stdout",
          "text": [
            "ive cal your chance of surival,but i don\"t think you\"ll like it\n"
          ]
        }
      ]
    },
    {
      "cell_type": "markdown",
      "source": [
        "*oprn life.py\n",
        "*Import the math module. Google how to use square root method in Python math module.\n",
        "\n",
        "*Create a function called square_root(...) that takes one input and returns the square root.\n",
        "\n",
        "*Save life.py. In your jupyter notebook go to Restart & Run All.\n",
        "\n",
        "*Calculate the square root of 63.14"
      ],
      "metadata": {
        "id": "jYiSk6-UOn6R"
      }
    },
    {
      "cell_type": "code",
      "source": [
        "import life as my\n",
        "result=my.square_root(63.14)\n",
        "print(result)"
      ],
      "metadata": {
        "colab": {
          "base_uri": "https://localhost:8080/"
        },
        "id": "abp5sr4OMmZW",
        "outputId": "5608d52d-146e-4fe8-8af5-e511aede91c2"
      },
      "execution_count": 10,
      "outputs": [
        {
          "output_type": "stream",
          "name": "stdout",
          "text": [
            "7.946068210127573\n"
          ]
        }
      ]
    },
    {
      "cell_type": "markdown",
      "source": [
        "Code style"
      ],
      "metadata": {
        "id": "Z0mFQQr6SW1D"
      }
    },
    {
      "cell_type": "markdown",
      "source": [
        "variable                      -y X\n",
        "                            \n",
        "modules & packages            -math\n",
        "                              -my\n",
        "\n",
        "function & METHODS            -race()\n",
        "                              -plot(x,y,color='grean')"
      ],
      "metadata": {
        "id": "cEhB7PfLZEcu"
      }
    },
    {
      "cell_type": "code",
      "source": [],
      "metadata": {
        "id": "lY1vs_yPMmVv"
      },
      "execution_count": 9,
      "outputs": []
    },
    {
      "cell_type": "markdown",
      "metadata": {
        "id": "7dec922a"
      },
      "source": [
        "Now you can try calling `my.square_root(63.14)` again."
      ]
    }
  ]
}